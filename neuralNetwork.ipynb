{
 "cells": [
  {
   "cell_type": "code",
   "execution_count": 2,
   "id": "a9730801",
   "metadata": {},
   "outputs": [],
   "source": [
    "# определение класса нейронной сети\n",
    "class neuralNetwork:\n",
    "    \n",
    "    # инициализировать нейронную сеть\n",
    "    def __init__(self, inputnodes, hiddennodes, outputnodes, learningrate):\n",
    "        # задать количество узлов во входном, скрытом и выходном слое\n",
    "        self.inodes = inputnodes\n",
    "        self.hnodes = hiddennodes\n",
    "        self.onodes = outputnodes\n",
    "        \n",
    "        # коэффициент обучения\n",
    "        self.lr = learningrate\n",
    "        pass\n",
    "    \n",
    "    # тренировка нейронной сети\n",
    "    def train():\n",
    "        pass\n",
    "    \n",
    "    # опрос нейронной сети\n",
    "    def query():\n",
    "        pass"
   ]
  },
  {
   "cell_type": "code",
   "execution_count": 3,
   "id": "9edacee3",
   "metadata": {},
   "outputs": [],
   "source": [
    "# количество входных, скрытых и выходных узлов\n",
    "input_nodes = 3\n",
    "hidden_nodes = 3\n",
    "output_nodes = 3\n",
    "\n",
    "# коэффициент обучения равен 0,3\n",
    "learning_rate = 0.3\n",
    "\n",
    "# создать экземпляр нейронной сети\n",
    "n = neuralNetwork(input_nodes, hidden_nodes, output_nodes, learning_rate)"
   ]
  }
 ],
 "metadata": {
  "kernelspec": {
   "display_name": "Python 3 (ipykernel)",
   "language": "python",
   "name": "python3"
  },
  "language_info": {
   "codemirror_mode": {
    "name": "ipython",
    "version": 3
   },
   "file_extension": ".py",
   "mimetype": "text/x-python",
   "name": "python",
   "nbconvert_exporter": "python",
   "pygments_lexer": "ipython3",
   "version": "3.12.7"
  }
 },
 "nbformat": 4,
 "nbformat_minor": 5
}
