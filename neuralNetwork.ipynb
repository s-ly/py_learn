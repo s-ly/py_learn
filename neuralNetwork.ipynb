{
 "cells": [
  {
   "cell_type": "code",
   "execution_count": 24,
   "id": "a9730801",
   "metadata": {},
   "outputs": [],
   "source": [
    "import numpy\n",
    "import scipy.special\n",
    "\n",
    "# определение класса нейронной сети\n",
    "class neuralNetwork:\n",
    "    \n",
    "    # инициализировать нейронную сеть\n",
    "    def __init__(self, inputnodes, hiddennodes, outputnodes, learningrate):\n",
    "        # задать количество узлов во входном, скрытом и выходном слое\n",
    "        self.inodes = inputnodes\n",
    "        self.hnodes = hiddennodes\n",
    "        self.onodes = outputnodes\n",
    "        \n",
    "        # Матрицы весовых коэффициентов связей wih и who.\n",
    "        self.wih = numpy.random.normal(0.0, pow(self.hnodes, -0.5), (self.hnodes, self.inodes))\n",
    "        self.who = numpy.random.normal(0.0, pow(self.onodes, -0.5), (self.onodes, self.hnodes))\n",
    "        \n",
    "        # коэффициент обучения\n",
    "        self.lr = learningrate\n",
    "        \n",
    "        #использование сигмоиды в качестве функции активации\n",
    "        self.activation_function = lambda x: scipy.special.expit(x)\n",
    "    \n",
    "    # тренировка нейронной сети\n",
    "    def train():\n",
    "        pass\n",
    "    \n",
    "    # опрос нейронной сети\n",
    "    def query(self, inputs_list):\n",
    "        # преобразовать список входных значений в двухмерный массив\n",
    "        inputs = numpy.array(inputs_list, ndmin=2) .T\n",
    "        \n",
    "        # расчитать входящие сигналы для скрытого слоя\n",
    "        hidden_inputs = numpy.dot(self.wih, inputs)\n",
    "        # расчитать исходящие сигналы для скрытого слоя\n",
    "        hidden_outputs = self.activation_function(hidden_inputs)\n",
    "        \n",
    "        # расчитать входящие сигналы для выходного слоя\n",
    "        final_inputs = numpy.dot(self.who, hidden_outputs)\n",
    "        # расчитать исходящие сигналы для выходного слоя\n",
    "        final_outputs = self.activation_function(final_inputs)\n",
    "        \n",
    "        return final_outputs"
   ]
  },
  {
   "cell_type": "code",
   "execution_count": 25,
   "id": "9edacee3",
   "metadata": {},
   "outputs": [],
   "source": [
    "# количество входных, скрытых и выходных узлов\n",
    "input_nodes = 3\n",
    "hidden_nodes = 3\n",
    "output_nodes = 3\n",
    "\n",
    "# коэффициент обучения равен 0,3\n",
    "learning_rate = 0.3\n",
    "\n",
    "# создать экземпляр нейронной сети\n",
    "n = neuralNetwork(input_nodes, hidden_nodes, output_nodes, learning_rate)"
   ]
  },
  {
   "cell_type": "code",
   "execution_count": 26,
   "id": "ba561525",
   "metadata": {},
   "outputs": [
    {
     "data": {
      "text/plain": [
       "array([[0.22728008],\n",
       "       [0.55393007],\n",
       "       [0.36580251]])"
      ]
     },
     "execution_count": 26,
     "metadata": {},
     "output_type": "execute_result"
    }
   ],
   "source": [
    "n.query([1.0, 0.5, -1.5])"
   ]
  }
 ],
 "metadata": {
  "kernelspec": {
   "display_name": "Python 3 (ipykernel)",
   "language": "python",
   "name": "python3"
  },
  "language_info": {
   "codemirror_mode": {
    "name": "ipython",
    "version": 3
   },
   "file_extension": ".py",
   "mimetype": "text/x-python",
   "name": "python",
   "nbconvert_exporter": "python",
   "pygments_lexer": "ipython3",
   "version": "3.12.7"
  }
 },
 "nbformat": 4,
 "nbformat_minor": 5
}
